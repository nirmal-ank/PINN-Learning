{
  "cells": [
    {
      "cell_type": "markdown",
      "metadata": {
        "id": "view-in-github",
        "colab_type": "text"
      },
      "source": [
        "<a href=\"https://colab.research.google.com/github/nirmal-ank/PINN-Learning/blob/main/Fuselage_Panel.ipynb\" target=\"_parent\"><img src=\"https://colab.research.google.com/assets/colab-badge.svg\" alt=\"Open In Colab\"/></a>"
      ]
    },
    {
      "cell_type": "code",
      "source": [
        "from google.colab import drive\n",
        "drive.mount(\"/content/drive\")"
      ],
      "metadata": {
        "id": "w8Lu3XoekNWK"
      },
      "execution_count": null,
      "outputs": []
    },
    {
      "cell_type": "markdown",
      "source": [
        "For permanent install"
      ],
      "metadata": {
        "id": "8ISfPmMZkcOY"
      }
    },
    {
      "cell_type": "code",
      "source": [
        "# !pip install virtualenv\n",
        "# !virtualenv /content/drive/MyDrive/virtual_env\n",
        "#  !source /content/drive/MyDrive/virtual_env/bin/activate; pip install nvidia-modulus nvidia-modulus-sym\n"
      ],
      "metadata": {
        "id": "fFFT6TykkbYa"
      },
      "execution_count": null,
      "outputs": []
    },
    {
      "cell_type": "markdown",
      "source": [
        "Add the installation path of the modulus to the system\n"
      ],
      "metadata": {
        "id": "C1bdANHMkpIJ"
      }
    },
    {
      "cell_type": "code",
      "source": [
        "import sys\n",
        "# add the path of the virtual environmentsite-packages to colab system path\n",
        "sys.path.append(\"/content/drive/MyDrive/virtual_env/lib/python3.10/site-packages\")"
      ],
      "metadata": {
        "id": "nnJhe1U7koTA"
      },
      "execution_count": null,
      "outputs": []
    },
    {
      "cell_type": "markdown",
      "source": [
        "For temporary install"
      ],
      "metadata": {
        "id": "rpYns6Czktwo"
      }
    },
    {
      "cell_type": "code",
      "source": [
        "# !pip install nvidia-modulus nvidia-modulus-sym\n"
      ],
      "metadata": {
        "id": "W1VURFUbkVbQ"
      },
      "execution_count": null,
      "outputs": []
    },
    {
      "cell_type": "markdown",
      "source": [],
      "metadata": {
        "id": "13-tER7fkOma"
      }
    },
    {
      "cell_type": "markdown",
      "metadata": {
        "id": "Y-DBBLUGNY9N"
      },
      "source": [
        "# Import Required Libraries"
      ]
    },
    {
      "cell_type": "code",
      "execution_count": null,
      "metadata": {
        "id": "ORc4ehc5kHA_",
        "outputId": "40a20cd4-79ba-4684-bf79-a0f33232510f"
      },
      "outputs": [
        {
          "name": "stderr",
          "output_type": "stream",
          "text": [
            "2024-08-16 06:31:22.428799: I tensorflow/core/util/port.cc:153] oneDNN custom operations are on. You may see slightly different numerical results due to floating-point round-off errors from different computation orders. To turn them off, set the environment variable `TF_ENABLE_ONEDNN_OPTS=0`.\n",
            "2024-08-16 06:31:22.637171: E external/local_xla/xla/stream_executor/cuda/cuda_fft.cc:485] Unable to register cuFFT factory: Attempting to register factory for plugin cuFFT when one has already been registered\n",
            "2024-08-16 06:31:22.716603: E external/local_xla/xla/stream_executor/cuda/cuda_dnn.cc:8454] Unable to register cuDNN factory: Attempting to register factory for plugin cuDNN when one has already been registered\n",
            "2024-08-16 06:31:22.739103: E external/local_xla/xla/stream_executor/cuda/cuda_blas.cc:1452] Unable to register cuBLAS factory: Attempting to register factory for plugin cuBLAS when one has already been registered\n",
            "2024-08-16 06:31:22.894087: I tensorflow/core/platform/cpu_feature_guard.cc:210] This TensorFlow binary is optimized to use available CPU instructions in performance-critical operations.\n",
            "To enable the following instructions: AVX2 AVX_VNNI FMA, in other operations, rebuild TensorFlow with the appropriate compiler flags.\n",
            "2024-08-16 06:31:23.721881: W tensorflow/compiler/tf2tensorrt/utils/py_utils.cc:38] TF-TRT Warning: Could not find TensorRT\n"
          ]
        }
      ],
      "source": [
        "import os\n",
        "import warnings\n",
        "\n",
        "import numpy as np\n",
        "\n",
        "from sympy import Symbol, Eq\n",
        "\n",
        "import modulus.sym\n",
        "# from modulus.sym.hydra import to_absolute_path, instantiate_arch, ModulusConfig\n",
        "from modulus.sym.utils.io import csv_to_dict\n",
        "from modulus.sym.solver import Solver\n",
        "from modulus.sym.domain import Domain\n",
        "from modulus.sym.geometry.primitives_2d import Rectangle, Circle\n",
        "from modulus.sym.domain.constraint import (\n",
        "    PointwiseBoundaryConstraint,\n",
        "    PointwiseInteriorConstraint,\n",
        ")\n",
        "from modulus.sym.domain.validator import PointwiseValidator\n",
        "from modulus.sym.domain.inferencer import PointwiseInferencer\n",
        "from modulus.sym.key import Key\n",
        "from modulus.sym.node import Node\n"
      ]
    },
    {
      "cell_type": "markdown",
      "metadata": {
        "id": "XxV1rmKppijU"
      },
      "source": [
        "Linear Elasticity Equations"
      ]
    },
    {
      "cell_type": "code",
      "execution_count": null,
      "metadata": {
        "id": "wzylg0bBN2v-"
      },
      "outputs": [],
      "source": [
        "from modulus.sym.eq.pdes.linear_elasticity import LinearElasticityPlaneStress"
      ]
    },
    {
      "cell_type": "markdown",
      "metadata": {
        "id": "DLP5xkvh5scT"
      },
      "source": [
        "Panel Properties"
      ]
    },
    {
      "cell_type": "code",
      "execution_count": null,
      "metadata": {
        "id": "fWawLAOj5uZt"
      },
      "outputs": [],
      "source": [
        "E = 73.0 * 10**9  # Pa\n",
        "nu = 0.33\n",
        "lambda_ = nu * E / ((1 + nu) * (1 - 2 * nu))  # Pa\n",
        "mu_real = E / (2 * (1 + nu))  # Pa\n",
        "lambda_ = lambda_ / mu_real  # Dimensionless\n",
        "mu = 1.0  # Dimensionless"
      ]
    },
    {
      "cell_type": "markdown",
      "metadata": {
        "id": "OUa4bVn46AuR"
      },
      "source": [
        "Creating pde equation node for linear elasticity"
      ]
    },
    {
      "cell_type": "code",
      "execution_count": null,
      "metadata": {
        "id": "FmueD8rxkyHC"
      },
      "outputs": [],
      "source": [
        "le = LinearElasticityPlaneStress(lambda_=lambda_, mu=mu)"
      ]
    },
    {
      "cell_type": "code",
      "execution_count": null,
      "metadata": {
        "colab": {
          "base_uri": "https://localhost:8080/"
        },
        "id": "Qc3Z2oAbnZKP",
        "outputId": "975e8805-41e0-4c21-b1e5-e32f2770d4c1"
      },
      "outputs": [
        {
          "name": "stdout",
          "output_type": "stream",
          "text": [
            "stress_disp_xx: -sigma_xx + 2.98507462686567*u__x + 0.985074626865672*v__y\n",
            "stress_disp_yy: -sigma_yy + 0.985074626865672*u__x + 2.98507462686567*v__y\n",
            "stress_disp_xy: -sigma_xy + 1.0*u__y + 1.0*v__x\n",
            "equilibrium_x: -sigma_xx__x - sigma_xy__y\n",
            "equilibrium_y: -sigma_xy__x - sigma_yy__y\n",
            "traction_x: normal_x*sigma_xx + normal_y*sigma_xy\n",
            "traction_y: normal_x*sigma_xy + normal_y*sigma_yy\n"
          ]
        }
      ],
      "source": [
        "le.pprint()"
      ]
    },
    {
      "cell_type": "code",
      "execution_count": null,
      "metadata": {
        "colab": {
          "base_uri": "https://localhost:8080/",
          "height": 55
        },
        "id": "6BibHMiLRp3B",
        "outputId": "da4ed28d-f933-4857-f7a2-76ffa1332e90"
      },
      "outputs": [
        {
          "data": {
            "image/png": "[encoded data removed]",
            "text/latex": [
              "$\\displaystyle - \\sigma_{xx}{\\left(x,y \\right)} + 2.98507462686567 \\frac{\\partial}{\\partial x} u{\\left(x,y \\right)} + 0.985074626865672 \\frac{\\partial}{\\partial y} v{\\left(x,y \\right)}$"
            ],
            "text/plain": [
              "                              ∂                               ∂          \n",
              "-σₓₓ(x, y) + 2.98507462686567⋅──(u(x, y)) + 0.985074626865672⋅──(v(x, y))\n",
              "                              ∂x                              ∂y         "
            ]
          },
          "execution_count": 11,
          "metadata": {},
          "output_type": "execute_result"
        }
      ],
      "source": [
        "le.equations[\"stress_disp_xx\"]\n"
      ]
    },
    {
      "cell_type": "code",
      "execution_count": null,
      "metadata": {
        "colab": {
          "base_uri": "https://localhost:8080/",
          "height": 55
        },
        "id": "1c7_qHuP7QOT",
        "outputId": "c89a38ff-19e4-481c-a22e-cac59902edce"
      },
      "outputs": [
        {
          "data": {
            "image/png": "[encoded data removed]",
            "text/latex": [
              "$\\displaystyle - \\sigma_{yy}{\\left(x,y \\right)} + 0.985074626865672 \\frac{\\partial}{\\partial x} u{\\left(x,y \\right)} + 2.98507462686567 \\frac{\\partial}{\\partial y} v{\\left(x,y \\right)}$"
            ],
            "text/plain": [
              "                                ∂                              ∂          \n",
              "-σ_yy(x, y) + 0.985074626865672⋅──(u(x, y)) + 2.98507462686567⋅──(v(x, y))\n",
              "                                ∂x                             ∂y         "
            ]
          },
          "execution_count": 12,
          "metadata": {},
          "output_type": "execute_result"
        }
      ],
      "source": [
        "le.equations[\"stress_disp_yy\"]\n"
      ]
    },
    {
      "cell_type": "code",
      "execution_count": null,
      "metadata": {
        "colab": {
          "base_uri": "https://localhost:8080/",
          "height": 55
        },
        "id": "yOJDcCHS7R4E",
        "outputId": "d8f644df-2b97-41be-eedc-03402769d69d"
      },
      "outputs": [
        {
          "data": {
            "image/png": "[encoded data removed]",
            "text/latex": [
              "$\\displaystyle - \\sigma_{xy}{\\left(x,y \\right)} + 1.0 \\frac{\\partial}{\\partial y} u{\\left(x,y \\right)} + 1.0 \\frac{\\partial}{\\partial x} v{\\left(x,y \\right)}$"
            ],
            "text/plain": [
              "                  ∂                 ∂          \n",
              "-σ_xy(x, y) + 1.0⋅──(u(x, y)) + 1.0⋅──(v(x, y))\n",
              "                  ∂y                ∂x         "
            ]
          },
          "execution_count": 13,
          "metadata": {},
          "output_type": "execute_result"
        }
      ],
      "source": [
        "le.equations[\"stress_disp_xy\"]\n"
      ]
    },
    {
      "cell_type": "code",
      "execution_count": null,
      "metadata": {
        "colab": {
          "base_uri": "https://localhost:8080/",
          "height": 55
        },
        "id": "759rCIlm7Tcz",
        "outputId": "6db550c7-233e-40b3-d804-5d4796da3fa0"
      },
      "outputs": [
        {
          "data": {
            "image/png": "[encoded data removed]",
            "text/latex": [
              "$\\displaystyle - \\frac{\\partial}{\\partial x} \\sigma_{xx}{\\left(x,y \\right)} - \\frac{\\partial}{\\partial y} \\sigma_{xy}{\\left(x,y \\right)}$"
            ],
            "text/plain": [
              "  ∂               ∂             \n",
              "- ──(σₓₓ(x, y)) - ──(σ_xy(x, y))\n",
              "  ∂x              ∂y            "
            ]
          },
          "execution_count": 14,
          "metadata": {},
          "output_type": "execute_result"
        }
      ],
      "source": [
        "le.equations[\"equilibrium_x\"]\n"
      ]
    },
    {
      "cell_type": "code",
      "execution_count": null,
      "metadata": {
        "colab": {
          "base_uri": "https://localhost:8080/",
          "height": 55
        },
        "id": "SMZnEXOt7U1F",
        "outputId": "f4f02cd6-d30d-48c8-f26b-a935442b99af"
      },
      "outputs": [
        {
          "data": {
            "image/png": "[encoded data removed]",
            "text/latex": [
              "$\\displaystyle - \\frac{\\partial}{\\partial x} \\sigma_{xy}{\\left(x,y \\right)} - \\frac{\\partial}{\\partial y} \\sigma_{yy}{\\left(x,y \\right)}$"
            ],
            "text/plain": [
              "  ∂                ∂             \n",
              "- ──(σ_xy(x, y)) - ──(σ_yy(x, y))\n",
              "  ∂x               ∂y            "
            ]
          },
          "execution_count": 15,
          "metadata": {},
          "output_type": "execute_result"
        }
      ],
      "source": [
        "le.equations[\"equilibrium_y\"]\n"
      ]
    },
    {
      "cell_type": "code",
      "execution_count": null,
      "metadata": {
        "colab": {
          "base_uri": "https://localhost:8080/",
          "height": 39
        },
        "id": "AZXv_1ug7XlE",
        "outputId": "ebc82762-e45b-4da7-e364-36500b3c1207"
      },
      "outputs": [
        {
          "data": {
            "image/png": "[encoded data removed]",
            "text/latex": [
              "$\\displaystyle normal_{x} \\sigma_{xx}{\\left(x,y \\right)} + normal_{y} \\sigma_{xy}{\\left(x,y \\right)}$"
            ],
            "text/plain": [
              "normalₓ⋅σₓₓ(x, y) + normal_y⋅σ_xy(x, y)"
            ]
          },
          "execution_count": 16,
          "metadata": {},
          "output_type": "execute_result"
        }
      ],
      "source": [
        "le.equations[\"traction_x\"]\n"
      ]
    },
    {
      "cell_type": "code",
      "execution_count": null,
      "metadata": {
        "colab": {
          "base_uri": "https://localhost:8080/",
          "height": 39
        },
        "id": "U6HJwoeD7P3E",
        "outputId": "a3a37e04-d6b0-42dc-9c10-49bb1c495e62"
      },
      "outputs": [
        {
          "data": {
            "image/png": "[encoded data removed]",
            "text/latex": [
              "$\\displaystyle normal_{x} \\sigma_{xy}{\\left(x,y \\right)} + normal_{y} \\sigma_{yy}{\\left(x,y \\right)}$"
            ],
            "text/plain": [
              "normalₓ⋅σ_xy(x, y) + normal_y⋅σ_yy(x, y)"
            ]
          },
          "execution_count": 17,
          "metadata": {},
          "output_type": "execute_result"
        }
      ],
      "source": [
        "le.equations[\"traction_y\"]"
      ]
    },
    {
      "cell_type": "markdown",
      "metadata": {
        "id": "G9CRu5lbpm56"
      },
      "source": [
        "# Creating Neural Network Node"
      ]
    },
    {
      "cell_type": "code",
      "execution_count": null,
      "metadata": {
        "id": "3X6Zk7Qvpt0Q"
      },
      "outputs": [],
      "source": [
        "from modulus.sym.models.fully_connected import FullyConnectedArch\n",
        "from modulus.sym.models.activation import Activation\n",
        "from modulus.sym.key import Key\n",
        "\n",
        "elasticity_net = FullyConnectedArch(\n",
        "      input_keys=[Key(\"x\"), Key(\"y\"), Key(\"sigma_hoop\")],\n",
        "      output_keys=[\n",
        "        Key(\"u\"),\n",
        "        Key(\"v\"),\n",
        "        Key(\"sigma_xx\"),\n",
        "        Key(\"sigma_yy\"),\n",
        "        Key(\"sigma_xy\"),\n",
        "        ],\n",
        "      layer_size=512,\n",
        "      nr_layers=6,\n",
        "      skip_connections=False,\n",
        "      activation_fn=Activation.SILU,\n",
        "      adaptive_activations=False,\n",
        "      weight_norm=True,\n",
        ")"
      ]
    },
    {
      "cell_type": "code",
      "execution_count": null,
      "metadata": {
        "colab": {
          "base_uri": "https://localhost:8080/"
        },
        "id": "9EnY2Thop3Jn",
        "outputId": "4601ea70-fe0f-4c66-bb50-ac74b4ee56c4"
      },
      "outputs": [
        {
          "data": {
            "text/plain": [
              "FullyConnectedArch(\n",
              "  (_impl): FullyConnectedArchCore(\n",
              "    (layers): ModuleList(\n",
              "      (0): FCLayer(\n",
              "        (linear): WeightNormLinear(in_features=3, out_features=512, bias=True)\n",
              "      )\n",
              "      (1-5): 5 x FCLayer(\n",
              "        (linear): WeightNormLinear(in_features=512, out_features=512, bias=True)\n",
              "      )\n",
              "    )\n",
              "    (final_layer): FCLayer(\n",
              "      (activation_fn): Identity()\n",
              "      (linear): Linear(in_features=512, out_features=5, bias=True)\n",
              "    )\n",
              "  )\n",
              ")"
            ]
          },
          "execution_count": 19,
          "metadata": {},
          "output_type": "execute_result"
        }
      ],
      "source": [
        "elasticity_net"
      ]
    },
    {
      "cell_type": "code",
      "execution_count": null,
      "metadata": {
        "id": "UgUCcr-DuVGO"
      },
      "outputs": [],
      "source": [
        "nodes = le.make_nodes() + [elasticity_net.make_node(name=\"elasticity_network\")]"
      ]
    },
    {
      "cell_type": "code",
      "execution_count": null,
      "metadata": {
        "colab": {
          "base_uri": "https://localhost:8080/"
        },
        "id": "GcxfGUF9u7Jz",
        "outputId": "f416ed32-2aac-4c15-caf2-a99c35b51795"
      },
      "outputs": [
        {
          "data": {
            "text/plain": [
              "[<modulus.sym.node.Node at 0x7f6349baf130>,\n",
              " <modulus.sym.node.Node at 0x7f6347b06af0>,\n",
              " <modulus.sym.node.Node at 0x7f63479cbc10>,\n",
              " <modulus.sym.node.Node at 0x7f63479c5550>,\n",
              " <modulus.sym.node.Node at 0x7f6347a99d90>,\n",
              " <modulus.sym.node.Node at 0x7f63479c5940>,\n",
              " <modulus.sym.node.Node at 0x7f63479cbe80>,\n",
              " <modulus.sym.node.Node at 0x7f63479dcf70>]"
            ]
          },
          "execution_count": 21,
          "metadata": {},
          "output_type": "execute_result"
        }
      ],
      "source": [
        "nodes"
      ]
    },
    {
      "cell_type": "markdown",
      "metadata": {
        "id": "9YE6HQfTvTRG"
      },
      "source": [
        "# Geometry"
      ]
    },
    {
      "cell_type": "code",
      "execution_count": null,
      "metadata": {
        "id": "JL39_o47u8ad"
      },
      "outputs": [],
      "source": [
        "x, y, sigma_hoop = Symbol(\"x\"), Symbol(\"y\"), Symbol(\"sigma_hoop\")\n",
        "panel_origin = (-0.5, -0.9)\n",
        "panel_dim = (1, 1.8)  # Panel width is the characteristic length.\n",
        "window_origin = (-0.125, -0.2)\n",
        "window_dim = (0.25, 0.4)\n",
        "panel_aux1_origin = (-0.075, -0.2)\n",
        "panel_aux1_dim = (0.15, 0.4)\n",
        "panel_aux2_origin = (-0.125, -0.15)\n",
        "panel_aux2_dim = (0.25, 0.3)\n",
        "hr_zone_origin = (-0.2, -0.4)\n",
        "hr_zone_dim = (0.4, 0.8)\n",
        "circle_nw_center = (-0.075, 0.15)\n",
        "circle_ne_center = (0.075, 0.15)\n",
        "circle_se_center = (0.075, -0.15)\n",
        "circle_sw_center = (-0.075, -0.15)\n",
        "circle_radius = 0.05\n",
        "panel = Rectangle(\n",
        "    panel_origin, (panel_origin[0] + panel_dim[0], panel_origin[1] + panel_dim[1])\n",
        ")\n",
        "window = Rectangle(\n",
        "    window_origin,\n",
        "    (window_origin[0] + window_dim[0], window_origin[1] + window_dim[1]),\n",
        ")\n",
        "panel_aux1 = Rectangle(\n",
        "    panel_aux1_origin,\n",
        "    (\n",
        "        panel_aux1_origin[0] + panel_aux1_dim[0],\n",
        "        panel_aux1_origin[1] + panel_aux1_dim[1],\n",
        "    ),\n",
        ")\n",
        "panel_aux2 = Rectangle(\n",
        "    panel_aux2_origin,\n",
        "    (\n",
        "        panel_aux2_origin[0] + panel_aux2_dim[0],\n",
        "        panel_aux2_origin[1] + panel_aux2_dim[1],\n",
        "    ),\n",
        ")\n",
        "hr_zone = Rectangle(\n",
        "    hr_zone_origin,\n",
        "    (hr_zone_origin[0] + hr_zone_dim[0], hr_zone_origin[1] + hr_zone_dim[1]),\n",
        ")\n",
        "circle_nw = Circle(circle_nw_center, circle_radius)\n",
        "circle_ne = Circle(circle_ne_center, circle_radius)\n",
        "circle_se = Circle(circle_se_center, circle_radius)\n",
        "circle_sw = Circle(circle_sw_center, circle_radius)\n",
        "corners = (\n",
        "    window - panel_aux1 - panel_aux2 - circle_nw - circle_ne - circle_se - circle_sw\n",
        ")\n",
        "window = window - corners\n",
        "geo = panel - window\n",
        "hr_geo = geo & hr_zone"
      ]
    },
    {
      "cell_type": "code",
      "execution_count": null,
      "metadata": {
        "colab": {
          "base_uri": "https://localhost:8080/"
        },
        "id": "AWfW5O6cySw7",
        "outputId": "50ca0d71-b5de-4431-c66d-3d112b6dd550"
      },
      "outputs": [
        {
          "data": {
            "text/plain": [
              "<modulus.sym.geometry.geometry.Geometry at 0x7f63478fe970>"
            ]
          },
          "execution_count": 23,
          "metadata": {},
          "output_type": "execute_result"
        }
      ],
      "source": [
        "hr_geo"
      ]
    },
    {
      "cell_type": "code",
      "execution_count": null,
      "metadata": {
        "id": "a9KBdyX1_gxy"
      },
      "outputs": [],
      "source": [
        "from modulus.sym.utils.io.vtk import var_to_polyvtk\n",
        "samples = hr_geo.sample_boundary(100000)\n",
        "var_to_polyvtk(samples, './hr_geo_bound')\n",
        "samples = hr_geo.sample_interior(100000)\n",
        "var_to_polyvtk(samples, './hr_geo_int')\n"
      ]
    },
    {
      "cell_type": "markdown",
      "metadata": {
        "id": "djQ593ZbC7yl"
      },
      "source": [
        "Parameterization"
      ]
    },
    {
      "cell_type": "code",
      "execution_count": null,
      "metadata": {
        "id": "27e5nfDLC_DE"
      },
      "outputs": [],
      "source": [
        "characteristic_length = panel_dim[0]\n",
        "characteristic_disp = 0.001 * window_dim[0]\n",
        "sigma_normalization = characteristic_length / (mu_real * characteristic_disp)\n",
        "sigma_hoop_lower = 46 * 10**6 * sigma_normalization\n",
        "sigma_hoop_upper = 56.5 * 10**6 * sigma_normalization\n",
        "sigma_hoop_range = (sigma_hoop_lower, sigma_hoop_upper)\n",
        "param_ranges = {sigma_hoop: sigma_hoop_range}\n",
        "inference_param_ranges = {sigma_hoop: 46 * 10**6 * sigma_normalization}"
      ]
    },
    {
      "cell_type": "markdown",
      "metadata": {
        "id": "Nm2YYQkuDKqa"
      },
      "source": [
        "Bounds"
      ]
    },
    {
      "cell_type": "code",
      "execution_count": null,
      "metadata": {
        "id": "gjYCdbKvDNKm"
      },
      "outputs": [],
      "source": [
        "    bounds_x = (panel_origin[0], panel_origin[0] + panel_dim[0])\n",
        "    bounds_y = (panel_origin[1], panel_origin[1] + panel_dim[1])\n",
        "    hr_bounds_x = (hr_zone_origin[0], hr_zone_origin[0] + hr_zone_dim[0])\n",
        "    hr_bounds_y = (hr_zone_origin[1], hr_zone_origin[1] + hr_zone_dim[1])"
      ]
    },
    {
      "cell_type": "markdown",
      "metadata": {
        "id": "OppC87nnv_8u"
      },
      "source": [
        "# Constraints"
      ]
    },
    {
      "cell_type": "markdown",
      "metadata": {
        "id": "sz6WOeqGwDUl"
      },
      "source": [
        "## Domain"
      ]
    },
    {
      "cell_type": "code",
      "execution_count": null,
      "metadata": {
        "id": "ER6tZgkIvcjc"
      },
      "outputs": [],
      "source": [
        "    domain = Domain()"
      ]
    },
    {
      "cell_type": "markdown",
      "metadata": {
        "id": "oW6sDey_wKbC"
      },
      "source": [
        "## Boundary Constraints"
      ]
    },
    {
      "cell_type": "code",
      "execution_count": null,
      "metadata": {
        "id": "NiUJjg8HwGUj"
      },
      "outputs": [],
      "source": [
        "# left wall\n",
        "panel_left = PointwiseBoundaryConstraint(\n",
        "    nodes=nodes,\n",
        "    geometry=geo,\n",
        "    outvar={\"traction_x\": 0.0, \"traction_y\": 0.0},\n",
        "    batch_size=250,\n",
        "    criteria=Eq(x, panel_origin[0]),\n",
        "    parameterization=param_ranges,\n",
        ")\n",
        "domain.add_constraint(panel_left, \"panel_left\")\n",
        "\n",
        "# right wall\n",
        "panel_right = PointwiseBoundaryConstraint(\n",
        "    nodes=nodes,\n",
        "    geometry=geo,\n",
        "    outvar={\"traction_x\": 0.0, \"traction_y\": 0.0},\n",
        "    batch_size=250,\n",
        "    criteria=Eq(x, panel_origin[0] + panel_dim[0]),\n",
        "    parameterization=param_ranges,\n",
        ")\n",
        "domain.add_constraint(panel_right, \"panel_right\")\n",
        "\n",
        "# bottom wall\n",
        "panel_bottom = PointwiseBoundaryConstraint(\n",
        "    nodes=nodes,\n",
        "    geometry=geo,\n",
        "    outvar={\"v\": 0.0},\n",
        "    batch_size=150,\n",
        "    criteria=Eq(y, panel_origin[1]),\n",
        "    parameterization=param_ranges,\n",
        ")\n",
        "domain.add_constraint(panel_bottom, \"panel_bottom\")\n",
        "\n",
        "# corner point\n",
        "panel_corner = PointwiseBoundaryConstraint(\n",
        "    nodes=nodes,\n",
        "    geometry=geo,\n",
        "    outvar={\"u\": 0.0},\n",
        "    batch_size=5,\n",
        "    criteria=Eq(x, panel_origin[0])\n",
        "    & (y > panel_origin[1])\n",
        "    & (y < panel_origin[1] + 1e-3),\n",
        "    parameterization=param_ranges,\n",
        ")\n",
        "domain.add_constraint(panel_corner, \"panel_corner\")\n",
        "\n",
        "# top wall\n",
        "panel_top = PointwiseBoundaryConstraint(\n",
        "    nodes=nodes,\n",
        "    geometry=geo,\n",
        "    outvar={\"traction_x\": 0.0, \"traction_y\": sigma_hoop},\n",
        "    batch_size=150,\n",
        "    criteria=Eq(y, panel_origin[1] + panel_dim[1]),\n",
        "    parameterization=param_ranges,\n",
        ")\n",
        "domain.add_constraint(panel_top, \"panel_top\")\n",
        "\n",
        "# pannel window\n",
        "panel_window = PointwiseBoundaryConstraint(\n",
        "    nodes=nodes,\n",
        "    geometry=window,\n",
        "    outvar={\"traction_x\": 0.0, \"traction_y\": 0.0},\n",
        "    batch_size=3500,\n",
        "    parameterization=param_ranges,\n",
        ")\n",
        "domain.add_constraint(panel_window, \"panel_window\")"
      ]
    },
    {
      "cell_type": "markdown",
      "metadata": {
        "id": "Q3B5tzuYy4iA"
      },
      "source": [
        "## Interior Constraints"
      ]
    },
    {
      "cell_type": "code",
      "execution_count": null,
      "metadata": {
        "id": "suxJFczpxcjH"
      },
      "outputs": [],
      "source": [
        "# low-resolution interior\n",
        "lr_interior = PointwiseInteriorConstraint(\n",
        "    nodes=nodes,\n",
        "    geometry=geo,\n",
        "    outvar={\n",
        "        \"equilibrium_x\": 0.0,\n",
        "        \"equilibrium_y\": 0.0,\n",
        "        \"stress_disp_xx\": 0.0,\n",
        "        \"stress_disp_yy\": 0.0,\n",
        "        \"stress_disp_xy\": 0.0,\n",
        "    },\n",
        "    batch_size=7000,\n",
        "    bounds={x: bounds_x, y: bounds_y},\n",
        "    lambda_weighting={\n",
        "        \"equilibrium_x\": Symbol(\"sdf\"),\n",
        "        \"equilibrium_y\": Symbol(\"sdf\"),\n",
        "        \"stress_disp_xx\": Symbol(\"sdf\"),\n",
        "        \"stress_disp_yy\": Symbol(\"sdf\"),\n",
        "        \"stress_disp_xy\": Symbol(\"sdf\"),\n",
        "    },\n",
        "    parameterization=param_ranges,\n",
        ")\n",
        "domain.add_constraint(lr_interior, \"lr_interior\")\n",
        "\n",
        "# high-resolution interior\n",
        "hr_interior = PointwiseInteriorConstraint(\n",
        "    nodes=nodes,\n",
        "    geometry=hr_geo,\n",
        "    outvar={\n",
        "        \"equilibrium_x\": 0.0,\n",
        "        \"equilibrium_y\": 0.0,\n",
        "        \"stress_disp_xx\": 0.0,\n",
        "        \"stress_disp_yy\": 0.0,\n",
        "        \"stress_disp_xy\": 0.0,\n",
        "    },\n",
        "    batch_size=4000,\n",
        "    bounds={x: hr_bounds_x, y: hr_bounds_y},\n",
        "    lambda_weighting={\n",
        "        \"equilibrium_x\": Symbol(\"sdf\"),\n",
        "        \"equilibrium_y\": Symbol(\"sdf\"),\n",
        "        \"stress_disp_xx\": Symbol(\"sdf\"),\n",
        "        \"stress_disp_yy\": Symbol(\"sdf\"),\n",
        "        \"stress_disp_xy\": Symbol(\"sdf\"),\n",
        "    },\n",
        "    parameterization=param_ranges,\n",
        ")\n",
        "domain.add_constraint(hr_interior, \"hr_interior\")"
      ]
    },
    {
      "cell_type": "markdown",
      "metadata": {
        "id": "BMnEn7BYFY4-"
      },
      "source": [
        "Add inference data"
      ]
    },
    {
      "cell_type": "code",
      "execution_count": null,
      "metadata": {
        "id": "KTsxlxTDFWg9"
      },
      "outputs": [],
      "source": [
        "invar_numpy = geo.sample_interior(\n",
        "        100000,\n",
        "        bounds={x: bounds_x, y: bounds_y},\n",
        "        parameterization=inference_param_ranges,\n",
        "    )\n",
        "point_cloud_inference = PointwiseInferencer(\n",
        "    nodes=nodes,\n",
        "    invar=invar_numpy,\n",
        "    output_names=[\"u\", \"v\", \"sigma_xx\", \"sigma_yy\", \"sigma_xy\"],\n",
        "    batch_size=4096,\n",
        ")\n",
        "domain.add_inferencer(point_cloud_inference, \"inf_data\")"
      ]
    },
    {
      "cell_type": "markdown",
      "metadata": {
        "id": "QUzLHK0-5qUE"
      },
      "source": [
        "# Solver Configuration"
      ]
    },
    {
      "cell_type": "code",
      "execution_count": null,
      "metadata": {
        "colab": {
          "base_uri": "https://localhost:8080/"
        },
        "id": "Vh2kNataAnAe",
        "outputId": "ccb7d8b7-1122-4bfc-cc41-920677f247b3"
      },
      "outputs": [
        {
          "name": "stderr",
          "output_type": "stream",
          "text": [
            "/home/ank/miniconda3/envs/PINN/lib/python3.9/site-packages/modulus/sym/hydra/utils.py:150: UserWarning: \n",
            "The version_base parameter is not specified.\n",
            "Please specify a compatability version level, or None.\n",
            "Will assume defaults for version 1.1\n",
            "  hydra.initialize(\n"
          ]
        },
        {
          "name": "stdout",
          "output_type": "stream",
          "text": [
            "training:\n",
            "  max_steps: 5000\n",
            "  grad_agg_freq: 1\n",
            "  rec_results_freq: 2000\n",
            "  rec_validation_freq: ${training.rec_results_freq}\n",
            "  rec_inference_freq: ${training.rec_results_freq}\n",
            "  rec_monitor_freq: ${training.rec_results_freq}\n",
            "  rec_constraint_freq: 10000\n",
            "  save_network_freq: 1000\n",
            "  print_stats_freq: 100\n",
            "  summary_freq: 1000\n",
            "  amp: false\n",
            "  amp_dtype: float16\n",
            "  ntk:\n",
            "    use_ntk: false\n",
            "    save_name: null\n",
            "    run_freq: 1000\n",
            "graph:\n",
            "  func_arch: false\n",
            "  func_arch_allow_partial_hessian: true\n",
            "stop_criterion:\n",
            "  metric: null\n",
            "  min_delta: null\n",
            "  patience: 50000\n",
            "  mode: min\n",
            "  freq: 1000\n",
            "  strict: false\n",
            "profiler:\n",
            "  profile: false\n",
            "  start_step: 0\n",
            "  end_step: 100\n",
            "  name: nvtx\n",
            "network_dir: outputs\n",
            "initialization_network_dir: ''\n",
            "save_filetypes: vtk\n",
            "summary_histograms: false\n",
            "jit: true\n",
            "jit_use_nvfuser: true\n",
            "jit_arch_mode: only_activation\n",
            "jit_autograd_nodes: false\n",
            "cuda_graphs: true\n",
            "cuda_graph_warmup: 20\n",
            "find_unused_parameters: false\n",
            "broadcast_buffers: false\n",
            "device: ''\n",
            "debug: false\n",
            "run_mode: train\n",
            "arch:\n",
            "  fully_connected:\n",
            "    arch_type: fully_connected\n",
            "    input_keys: ???\n",
            "    output_keys: ???\n",
            "    detach_keys: ???\n",
            "    scaling: null\n",
            "    layer_size: 512\n",
            "    nr_layers: 6\n",
            "    skip_connections: false\n",
            "    activation_fn: silu\n",
            "    adaptive_activations: false\n",
            "    weight_norm: true\n",
            "models: ???\n",
            "loss:\n",
            "  _target_: modulus.sym.loss.aggregator.Sum\n",
            "  weights: null\n",
            "optimizer:\n",
            "  _params_:\n",
            "    compute_gradients: adam_compute_gradients\n",
            "    apply_gradients: adam_apply_gradients\n",
            "  _target_: torch.optim.Adam\n",
            "  lr: 0.001\n",
            "  betas:\n",
            "  - 0.9\n",
            "  - 0.999\n",
            "  eps: 1.0e-08\n",
            "  weight_decay: 0.0\n",
            "  amsgrad: false\n",
            "scheduler:\n",
            "  _target_: custom\n",
            "  _name_: tf.ExponentialLR\n",
            "  decay_rate: 0.95\n",
            "  decay_steps: 15000\n",
            "batch_size:\n",
            "  panel_left: 250\n",
            "  panel_right: 250\n",
            "  panel_bottom: 150\n",
            "  panel_corner: 5\n",
            "  panel_top: 150\n",
            "  panel_window: 3500\n",
            "  lr_interior: 7000\n",
            "  hr_interior: 4000\n",
            "custom: ???\n",
            "\n"
          ]
        }
      ],
      "source": [
        "import modulus.sym\n",
        "from modulus.sym.hydra import to_yaml\n",
        "from modulus.sym.hydra.utils import compose\n",
        "from modulus.sym.hydra.config import ModulusConfig\n",
        "\n",
        "cfg = compose(config_path=\".\", config_name=\"config\")\n",
        "cfg.network_dir = 'outputs' # Set the network directory for checkpoints\n",
        "print(to_yaml(cfg))"
      ]
    },
    {
      "cell_type": "markdown",
      "metadata": {
        "id": "FQmFFaqYgXf8"
      },
      "source": [
        "# Create Solver"
      ]
    },
    {
      "cell_type": "code",
      "execution_count": null,
      "metadata": {
        "id": "ptbCFBcvgbwA"
      },
      "outputs": [],
      "source": [
        "from modulus.sym.solver import Solver\n",
        "\n",
        "slv = Solver(cfg,domain)\n"
      ]
    },
    {
      "cell_type": "markdown",
      "metadata": {
        "id": "7tGJBzBLBcvG"
      },
      "source": [
        "# Run Solver"
      ]
    },
    {
      "cell_type": "markdown",
      "metadata": {
        "id": "3jKBn1dngfij"
      },
      "source": [
        "First configure the logging to see the steps!"
      ]
    },
    {
      "cell_type": "code",
      "execution_count": null,
      "metadata": {
        "colab": {
          "base_uri": "https://localhost:8080/"
        },
        "id": "fRpa12RJPyBo",
        "outputId": "9870cc0e-c739-4b3f-aa6a-c535a6221432"
      },
      "outputs": [
        {
          "name": "stderr",
          "output_type": "stream",
          "text": [
            "2024-08-15 08:32:26,680 - root - DEBUG - Logging is configured correctly.\n"
          ]
        }
      ],
      "source": [
        "import logging\n",
        "\n",
        "# Create a function to configure logging\n",
        "def configure_logging():\n",
        "    # Get the root logger\n",
        "    logger = logging.getLogger()\n",
        "    logger.setLevel(logging.DEBUG)\n",
        "\n",
        "    # Remove all existing handlers\n",
        "    while logger.handlers:\n",
        "        logger.handlers.pop()\n",
        "\n",
        "    # Create a stream handler\n",
        "    stream_handler = logging.StreamHandler()\n",
        "    stream_handler.setLevel(logging.DEBUG)\n",
        "\n",
        "    # Create a formatter\n",
        "    formatter = logging.Formatter('%(asctime)s - %(name)s - %(levelname)s - %(message)s')\n",
        "    stream_handler.setFormatter(formatter)\n",
        "\n",
        "    # Add the handler to the logger\n",
        "    logger.addHandler(stream_handler)\n",
        "\n",
        "# Configure logging\n",
        "configure_logging()\n",
        "\n",
        "# Test logging\n",
        "logging.debug(\"Logging is configured correctly.\")"
      ]
    },
    {
      "cell_type": "code",
      "execution_count": null,
      "metadata": {
        "colab": {
          "base_uri": "https://localhost:8080/"
        },
        "id": "mmU3vECl-9Jc",
        "outputId": "00a2b61b-daf4-499e-9bc4-96729f4ace5f"
      },
      "outputs": [
        {
          "name": "stderr",
          "output_type": "stream",
          "text": [
            "2024-08-15 08:32:28,725 - modulus.sym.trainer - WARNING - Installed PyTorch version 2.3.1+cu121 is not TorchScript supported in Modulus. Version 2.1.0a0+4136153 is officially supported.\n",
            "2024-08-15 08:32:28,737 - modulus.sym.trainer - INFO - attempting to restore from: /content/outputs\n",
            "2024-08-15 08:32:28,738 - modulus.sym.trainer - WARNING - optimizer checkpoint not found\n",
            "2024-08-15 08:32:28,740 - modulus.sym.trainer - WARNING - model elasticity_network.0.pth not found\n",
            "2024-08-15 08:32:29,299 - modulus.sym.trainer - DEBUG - [step:          0] saved constraint results to outputs\n",
            "2024-08-15 08:32:29,300 - modulus.sym.trainer - INFO - [step:          0] record constraint batch time:  2.231e-01s\n",
            "2024-08-15 08:32:29,719 - modulus.sym.trainer - DEBUG - [step:          0] saved inferencer results to outputs\n",
            "2024-08-15 08:32:29,720 - modulus.sym.trainer - INFO - [step:          0] record inferencers time:  4.145e-01s\n",
            "2024-08-15 08:32:29,753 - modulus.sym.trainer - INFO - [step:          0] saved checkpoint to /content/outputs\n",
            "2024-08-15 08:32:29,755 - modulus.sym.trainer - INFO - [step:          0] loss:  7.855e+00\n",
            "2024-08-15 08:32:34,722 - modulus.sym.trainer - INFO - Attempting cuda graph building, this may take a bit...\n",
            "2024-08-15 08:33:07,499 - modulus.sym.trainer - INFO - [step:        100] loss:  5.180e+00, time/iteration:  3.774e+02 ms\n",
            "2024-08-15 08:33:34,270 - modulus.sym.trainer - INFO - [step:        200] loss:  1.313e+00, time/iteration:  2.677e+02 ms\n",
            "2024-08-15 08:34:01,042 - modulus.sym.trainer - INFO - [step:        300] loss:  6.876e-01, time/iteration:  2.677e+02 ms\n",
            "2024-08-15 08:34:28,177 - modulus.sym.trainer - INFO - [step:        400] loss:  5.313e-01, time/iteration:  2.713e+02 ms\n",
            "2024-08-15 08:34:55,283 - modulus.sym.trainer - INFO - [step:        500] loss:  5.004e-01, time/iteration:  2.711e+02 ms\n",
            "2024-08-15 08:35:22,114 - modulus.sym.trainer - INFO - [step:        600] loss:  3.397e-01, time/iteration:  2.683e+02 ms\n",
            "2024-08-15 08:35:48,743 - modulus.sym.trainer - INFO - [step:        700] loss:  2.953e-01, time/iteration:  2.662e+02 ms\n",
            "2024-08-15 08:36:15,713 - modulus.sym.trainer - INFO - [step:        800] loss:  2.616e+00, time/iteration:  2.697e+02 ms\n",
            "2024-08-15 08:36:42,770 - modulus.sym.trainer - INFO - [step:        900] loss:  6.329e-01, time/iteration:  2.706e+02 ms\n",
            "2024-08-15 08:37:12,634 - modulus.sym.trainer - INFO - [step:       1000] saved checkpoint to /content/outputs\n",
            "2024-08-15 08:37:12,637 - modulus.sym.trainer - INFO - [step:       1000] loss:  5.072e-01, time/iteration:  2.987e+02 ms\n",
            "2024-08-15 08:37:39,809 - modulus.sym.trainer - INFO - [step:       1100] loss:  2.834e-01, time/iteration:  2.717e+02 ms\n",
            "2024-08-15 08:38:06,491 - modulus.sym.trainer - INFO - [step:       1200] loss:  1.940e-01, time/iteration:  2.668e+02 ms\n",
            "2024-08-15 08:38:33,288 - modulus.sym.trainer - INFO - [step:       1300] loss:  1.248e+00, time/iteration:  2.679e+02 ms\n",
            "2024-08-15 08:39:00,380 - modulus.sym.trainer - INFO - [step:       1400] loss:  4.865e-01, time/iteration:  2.709e+02 ms\n",
            "2024-08-15 08:39:27,490 - modulus.sym.trainer - INFO - [step:       1500] loss:  3.772e-01, time/iteration:  2.711e+02 ms\n",
            "2024-08-15 08:39:54,378 - modulus.sym.trainer - INFO - [step:       1600] loss:  2.520e-01, time/iteration:  2.689e+02 ms\n",
            "2024-08-15 08:40:20,993 - modulus.sym.trainer - INFO - [step:       1700] loss:  1.590e-01, time/iteration:  2.661e+02 ms\n",
            "2024-08-15 08:40:48,031 - modulus.sym.trainer - INFO - [step:       1800] loss:  1.056e-01, time/iteration:  2.704e+02 ms\n",
            "2024-08-15 08:41:15,134 - modulus.sym.trainer - INFO - [step:       1900] loss:  1.926e+00, time/iteration:  2.710e+02 ms\n",
            "2024-08-15 08:41:45,490 - modulus.sym.trainer - DEBUG - [step:       2000] saved inferencer results to outputs\n",
            "2024-08-15 08:41:45,492 - modulus.sym.trainer - INFO - [step:       2000] record inferencers time:  4.201e-01s\n",
            "2024-08-15 08:41:45,534 - modulus.sym.trainer - INFO - [step:       2000] saved checkpoint to /content/outputs\n",
            "2024-08-15 08:41:45,537 - modulus.sym.trainer - INFO - [step:       2000] loss:  8.486e-01, time/iteration:  3.040e+02 ms\n",
            "2024-08-15 08:42:12,665 - modulus.sym.trainer - INFO - [step:       2100] loss:  5.858e-01, time/iteration:  2.713e+02 ms\n",
            "2024-08-15 08:42:39,263 - modulus.sym.trainer - INFO - [step:       2200] loss:  4.672e-01, time/iteration:  2.660e+02 ms\n",
            "2024-08-15 08:43:06,107 - modulus.sym.trainer - INFO - [step:       2300] loss:  4.490e-01, time/iteration:  2.684e+02 ms\n",
            "2024-08-15 08:43:33,191 - modulus.sym.trainer - INFO - [step:       2400] loss:  3.008e-01, time/iteration:  2.708e+02 ms\n",
            "2024-08-15 08:44:00,394 - modulus.sym.trainer - INFO - [step:       2500] loss:  2.558e-01, time/iteration:  2.720e+02 ms\n",
            "2024-08-15 08:44:27,221 - modulus.sym.trainer - INFO - [step:       2600] loss:  2.226e-01, time/iteration:  2.683e+02 ms\n",
            "2024-08-15 08:44:54,059 - modulus.sym.trainer - INFO - [step:       2700] loss:  2.752e-01, time/iteration:  2.683e+02 ms\n",
            "2024-08-15 08:45:21,176 - modulus.sym.trainer - INFO - [step:       2800] loss:  1.889e-01, time/iteration:  2.712e+02 ms\n",
            "2024-08-15 08:45:48,336 - modulus.sym.trainer - INFO - [step:       2900] loss:  1.743e-01, time/iteration:  2.716e+02 ms\n",
            "2024-08-15 08:46:18,264 - modulus.sym.trainer - INFO - [step:       3000] saved checkpoint to /content/outputs\n",
            "2024-08-15 08:46:18,266 - modulus.sym.trainer - INFO - [step:       3000] loss:  1.919e-01, time/iteration:  2.993e+02 ms\n",
            "2024-08-15 08:46:45,202 - modulus.sym.trainer - INFO - [step:       3100] loss:  1.347e-01, time/iteration:  2.693e+02 ms\n",
            "2024-08-15 08:47:11,942 - modulus.sym.trainer - INFO - [step:       3200] loss:  6.628e+00, time/iteration:  2.674e+02 ms\n",
            "2024-08-15 08:47:39,074 - modulus.sym.trainer - INFO - [step:       3300] loss:  7.894e-01, time/iteration:  2.713e+02 ms\n",
            "2024-08-15 08:48:06,242 - modulus.sym.trainer - INFO - [step:       3400] loss:  4.164e-01, time/iteration:  2.717e+02 ms\n",
            "2024-08-15 08:48:33,372 - modulus.sym.trainer - INFO - [step:       3500] loss:  2.937e-01, time/iteration:  2.713e+02 ms\n",
            "2024-08-15 08:49:00,068 - modulus.sym.trainer - INFO - [step:       3600] loss:  2.185e-01, time/iteration:  2.670e+02 ms\n",
            "2024-08-15 08:49:27,047 - modulus.sym.trainer - INFO - [step:       3700] loss:  1.776e-01, time/iteration:  2.698e+02 ms\n",
            "2024-08-15 08:49:54,168 - modulus.sym.trainer - INFO - [step:       3800] loss:  1.529e-01, time/iteration:  2.712e+02 ms\n",
            "2024-08-15 08:50:21,281 - modulus.sym.trainer - INFO - [step:       3900] loss:  1.412e-01, time/iteration:  2.711e+02 ms\n",
            "2024-08-15 08:50:51,513 - modulus.sym.trainer - DEBUG - [step:       4000] saved inferencer results to outputs\n",
            "2024-08-15 08:50:51,517 - modulus.sym.trainer - INFO - [step:       4000] record inferencers time:  4.124e-01s\n",
            "2024-08-15 08:50:51,560 - modulus.sym.trainer - INFO - [step:       4000] saved checkpoint to /content/outputs\n",
            "2024-08-15 08:50:51,561 - modulus.sym.trainer - INFO - [step:       4000] loss:  1.068e-01, time/iteration:  3.028e+02 ms\n",
            "2024-08-15 08:51:18,397 - modulus.sym.trainer - INFO - [step:       4100] loss:  9.776e-02, time/iteration:  2.683e+02 ms\n",
            "2024-08-15 08:51:45,049 - modulus.sym.trainer - INFO - [step:       4200] loss:  8.948e-02, time/iteration:  2.665e+02 ms\n",
            "2024-08-15 08:52:12,149 - modulus.sym.trainer - INFO - [step:       4300] loss:  1.189e+01, time/iteration:  2.710e+02 ms\n",
            "2024-08-15 08:52:39,342 - modulus.sym.trainer - INFO - [step:       4400] loss:  4.113e-01, time/iteration:  2.719e+02 ms\n",
            "2024-08-15 08:53:06,244 - modulus.sym.trainer - INFO - [step:       4500] loss:  2.166e-01, time/iteration:  2.690e+02 ms\n",
            "2024-08-15 08:53:32,778 - modulus.sym.trainer - INFO - [step:       4600] loss:  1.546e-01, time/iteration:  2.653e+02 ms\n",
            "2024-08-15 08:53:59,808 - modulus.sym.trainer - INFO - [step:       4700] loss:  1.200e-01, time/iteration:  2.703e+02 ms\n",
            "2024-08-15 08:54:26,854 - modulus.sym.trainer - INFO - [step:       4800] loss:  9.299e-02, time/iteration:  2.705e+02 ms\n",
            "2024-08-15 08:54:53,994 - modulus.sym.trainer - INFO - [step:       4900] loss:  8.289e-02, time/iteration:  2.714e+02 ms\n",
            "2024-08-15 08:55:23,805 - modulus.sym.trainer - INFO - [step:       5000] saved checkpoint to /content/outputs\n",
            "2024-08-15 08:55:23,807 - modulus.sym.trainer - INFO - [step:       5000] loss:  7.477e-02, time/iteration:  2.981e+02 ms\n",
            "2024-08-15 08:55:50,467 - modulus.sym.trainer - INFO - [step:       5100] loss:  5.987e-02, time/iteration:  2.666e+02 ms\n",
            "2024-08-15 08:56:17,493 - modulus.sym.trainer - INFO - [step:       5200] loss:  6.924e-02, time/iteration:  2.702e+02 ms\n",
            "2024-08-15 08:56:44,544 - modulus.sym.trainer - INFO - [step:       5300] loss:  5.127e-02, time/iteration:  2.705e+02 ms\n",
            "2024-08-15 08:57:11,687 - modulus.sym.trainer - INFO - [step:       5400] loss:  4.785e-02, time/iteration:  2.714e+02 ms\n",
            "2024-08-15 08:57:38,420 - modulus.sym.trainer - INFO - [step:       5500] loss:  7.515e-02, time/iteration:  2.673e+02 ms\n",
            "2024-08-15 08:58:05,218 - modulus.sym.trainer - INFO - [step:       5600] loss:  4.654e-02, time/iteration:  2.679e+02 ms\n",
            "2024-08-15 08:58:32,320 - modulus.sym.trainer - INFO - [step:       5700] loss:  4.408e+00, time/iteration:  2.710e+02 ms\n",
            "2024-08-15 08:58:59,451 - modulus.sym.trainer - INFO - [step:       5800] loss:  8.094e-01, time/iteration:  2.713e+02 ms\n",
            "2024-08-15 08:59:26,304 - modulus.sym.trainer - INFO - [step:       5900] loss:  4.572e-01, time/iteration:  2.685e+02 ms\n",
            "2024-08-15 08:59:56,814 - modulus.sym.trainer - DEBUG - [step:       6000] saved inferencer results to outputs\n",
            "2024-08-15 08:59:56,816 - modulus.sym.trainer - INFO - [step:       6000] record inferencers time:  6.421e-01s\n",
            "2024-08-15 08:59:56,878 - modulus.sym.trainer - INFO - [step:       6000] saved checkpoint to /content/outputs\n",
            "2024-08-15 08:59:56,881 - modulus.sym.trainer - INFO - [step:       6000] loss:  2.902e-01, time/iteration:  3.057e+02 ms\n",
            "2024-08-15 09:00:23,509 - modulus.sym.trainer - INFO - [step:       6100] loss:  2.289e-01, time/iteration:  2.662e+02 ms\n",
            "2024-08-15 09:00:50,464 - modulus.sym.trainer - INFO - [step:       6200] loss:  1.994e-01, time/iteration:  2.695e+02 ms\n",
            "2024-08-15 09:01:17,374 - modulus.sym.trainer - INFO - [step:       6300] loss:  1.540e-01, time/iteration:  2.691e+02 ms\n",
            "2024-08-15 09:01:44,456 - modulus.sym.trainer - INFO - [step:       6400] loss:  1.393e-01, time/iteration:  2.708e+02 ms\n",
            "2024-08-15 09:02:11,252 - modulus.sym.trainer - INFO - [step:       6500] loss:  1.425e-01, time/iteration:  2.680e+02 ms\n",
            "2024-08-15 09:02:37,887 - modulus.sym.trainer - INFO - [step:       6600] loss:  1.181e-01, time/iteration:  2.663e+02 ms\n",
            "2024-08-15 09:03:04,974 - modulus.sym.trainer - INFO - [step:       6700] loss:  1.309e-01, time/iteration:  2.709e+02 ms\n"
          ]
        }
      ],
      "source": [
        "slv.solve()"
      ]
    },
    {
      "cell_type": "markdown",
      "metadata": {
        "id": "LvukqYB-gld3"
      },
      "source": [
        "# Post Processing"
      ]
    },
    {
      "cell_type": "markdown",
      "metadata": {
        "id": "ccQleF_ggrKT"
      },
      "source": [
        "## Load Model From File"
      ]
    },
    {
      "cell_type": "code",
      "execution_count": null,
      "metadata": {
        "colab": {
          "base_uri": "https://localhost:8080/"
        },
        "id": "bcdAA94HFjPE",
        "outputId": "cfba5dbc-49f7-4ca9-907b-9e5bc1b6c2f6"
      },
      "outputs": [
        {
          "data": {
            "text/plain": [
              "dict_keys(['step', 'optimizer_state_dict', 'aggregator_state_dict', 'scheduler_state_dict', 'scaler_state_dict'])"
            ]
          },
          "execution_count": 1,
          "metadata": {},
          "output_type": "execute_result"
        }
      ],
      "source": [
        "import torch\n",
        "torch.load('./outputs/optim_checkpoint.0.pth').keys()"
      ]
    },
    {
      "cell_type": "code",
      "execution_count": null,
      "metadata": {
        "colab": {
          "base_uri": "https://localhost:8080/"
        },
        "id": "pBaBdkDMFz9M",
        "outputId": "5dd853e9-e40f-4a5e-8ce2-733c16641c20"
      },
      "outputs": [
        {
          "data": {
            "text/plain": [
              "odict_keys(['_impl.layers.0.linear.weight', '_impl.layers.0.linear.weight_g', '_impl.layers.0.linear.bias', '_impl.layers.1.linear.weight', '_impl.layers.1.linear.weight_g', '_impl.layers.1.linear.bias', '_impl.layers.2.linear.weight', '_impl.layers.2.linear.weight_g', '_impl.layers.2.linear.bias', '_impl.layers.3.linear.weight', '_impl.layers.3.linear.weight_g', '_impl.layers.3.linear.bias', '_impl.layers.4.linear.weight', '_impl.layers.4.linear.weight_g', '_impl.layers.4.linear.bias', '_impl.layers.5.linear.weight', '_impl.layers.5.linear.weight_g', '_impl.layers.5.linear.bias', '_impl.final_layer.linear.weight', '_impl.final_layer.linear.bias'])"
            ]
          },
          "execution_count": 2,
          "metadata": {},
          "output_type": "execute_result"
        }
      ],
      "source": [
        "torch.load('./outputs/elasticity_network.0.pth').keys()"
      ]
    },
    {
      "cell_type": "code",
      "execution_count": null,
      "metadata": {
        "colab": {
          "base_uri": "https://localhost:8080/"
        },
        "id": "dtyHg-ZAF21M",
        "outputId": "45c43d6f-cc3d-42ed-8fa6-e4281651846b"
      },
      "outputs": [
        {
          "name": "stdout",
          "output_type": "stream",
          "text": [
            "'collections.OrderedDict' object has no attribute 'eval'\n"
          ]
        },
        {
          "ename": "NameError",
          "evalue": "name 'elasticity_net' is not defined",
          "output_type": "error",
          "traceback": [
            "\u001b[0;31m---------------------------------------------------------------------------\u001b[0m",
            "\u001b[0;31mNameError\u001b[0m                                 Traceback (most recent call last)",
            "Cell \u001b[0;32mIn[5], line 10\u001b[0m\n\u001b[1;32m      5\u001b[0m \u001b[38;5;28;01mexcept\u001b[39;00m \u001b[38;5;167;01mAttributeError\u001b[39;00m \u001b[38;5;28;01mas\u001b[39;00m error:\n\u001b[1;32m      6\u001b[0m     \u001b[38;5;28mprint\u001b[39m(error)\n\u001b[0;32m---> 10\u001b[0m \u001b[43melasticity_net\u001b[49m\u001b[38;5;241m.\u001b[39mload_state_dict(checkpoint)\n",
            "\u001b[0;31mNameError\u001b[0m: name 'elasticity_net' is not defined"
          ]
        }
      ],
      "source": [
        "# checkpoint = torch.load('./outputs/optim_checkpoint.0.pth')\n",
        "checkpoint = torch.load('outputs/elasticity_network.0.pth')\n",
        "try:\n",
        "    checkpoint.eval()\n",
        "except AttributeError as error:\n",
        "    print(error)\n",
        "\n",
        "\n",
        "\n",
        "elasticity_net.load_state_dict(checkpoint)"
      ]
    },
    {
      "cell_type": "markdown",
      "metadata": {
        "id": "Hayg4mVohj8P"
      },
      "source": [
        "## How to evaluate a PyTorch model"
      ]
    },
    {
      "cell_type": "code",
      "execution_count": null,
      "metadata": {
        "colab": {
          "base_uri": "https://localhost:8080/"
        },
        "id": "uUYbB5mUh0Kn",
        "outputId": "e00a43cb-e2ac-49ec-ad98-f6048b8f8b29"
      },
      "outputs": [
        {
          "data": {
            "text/plain": [
              "FullyConnectedArch(\n",
              "  (_impl): FullyConnectedArchCore(\n",
              "    (layers): ModuleList(\n",
              "      (0): FCLayer(\n",
              "        (linear): WeightNormLinear(in_features=2, out_features=512, bias=True)\n",
              "      )\n",
              "      (1-5): 5 x FCLayer(\n",
              "        (linear): WeightNormLinear(in_features=512, out_features=512, bias=True)\n",
              "      )\n",
              "    )\n",
              "    (final_layer): FCLayer(\n",
              "      (activation_fn): Identity()\n",
              "      (linear): Linear(in_features=512, out_features=3, bias=True)\n",
              "    )\n",
              "  )\n",
              ")"
            ]
          },
          "execution_count": 64,
          "metadata": {},
          "output_type": "execute_result"
        }
      ],
      "source": [
        "elasticity_net"
      ]
    },
    {
      "cell_type": "markdown",
      "metadata": {
        "id": "if-tYv5yiKza"
      },
      "source": [
        "# How to evaluate **OUR** PyTorch flow model"
      ]
    },
    {
      "cell_type": "markdown",
      "metadata": {
        "id": "6TvXMNh4JVv_"
      },
      "source": [
        "This is why we instantiated it like this."
      ]
    },
    {
      "cell_type": "markdown",
      "metadata": {
        "id": "m5f5NFkAJM7k"
      },
      "source": [
        "```\n",
        "flow_net = FullyConnectedArch(\n",
        "    input_keys=[Key(\"x\"), Key(\"y\")],\n",
        "    output_keys=[Key(\"u\"), Key(\"v\"), Key(\"p\")],\n",
        "    layer_size=512,\n",
        "    nr_layers=6,\n",
        "    skip_connections=False,\n",
        "    activation_fn=Activation.SILU,\n",
        "    adaptive_activations=False,\n",
        "    weight_norm=True,\n",
        ")\n",
        "```"
      ]
    },
    {
      "cell_type": "code",
      "execution_count": null,
      "metadata": {
        "id": "IEXkZ7SCNCdn"
      },
      "outputs": [],
      "source": [
        "import torch\n",
        "\n",
        "# Define the device\n",
        "device = torch.device(\"cuda:0\" if torch.cuda.is_available() else \"cpu\")\n",
        "\n"
      ]
    },
    {
      "cell_type": "markdown",
      "metadata": {
        "id": "g-_6w_0ykQJ6"
      },
      "source": [
        "# Finally, how to visualize our results"
      ]
    },
    {
      "cell_type": "code",
      "execution_count": null,
      "metadata": {
        "id": "NsscAT1mt3Gl"
      },
      "outputs": [],
      "source": [
        "# Define the domain\n",
        "num_samples = 1000  # Number of points to sample\n",
        "interior_points = hr_geo.sample_interior(num_samples)\n",
        "\n",
        "x_values = np.array(interior_points['x'])\n",
        "y_values = np.array(interior_points['y'])\n",
        "x_grid, y_grid = np.meshgrid(x_values, y_values)\n",
        "\n",
        "# Flatten the grid arrays to create inputs for the model\n",
        "x_flat = x_grid.flatten()\n",
        "y_flat = y_grid.flatten()\n",
        "\n",
        "sigma_hoop_value = np.ones(1000000)*46*10**6\n",
        "\n",
        "# Convert to PyTorch tensors\n",
        "x_tensor = torch.tensor(x_flat, dtype=torch.float32,device=device).unsqueeze(1)\n",
        "y_tensor = torch.tensor(y_flat, dtype=torch.float32,device=device).unsqueeze(1)\n",
        "sigma_hoop_tensor = torch.tensor(sigma_hoop_value, dtype=torch.float32, device=device).unsqueeze(1)\n",
        "\n",
        "\n",
        "# Create input dictionary for the model\n",
        "inputs = {\"x\": x_tensor, \"y\": y_tensor, \"sigma_hoop\": sigma_hoop_tensor}"
      ]
    },
    {
      "cell_type": "code",
      "execution_count": null,
      "metadata": {
        "id": "xqTvRf4suI6d"
      },
      "outputs": [],
      "source": [
        "# Pass inputs through the model to get predictions\n",
        "outputs = elasticity_net(inputs)\n",
        "u_flat = outputs['u'].detach().cpu().numpy()\n",
        "v_flat = outputs['v'].detach().cpu().numpy()\n",
        "sigma_xx_flat = outputs['sigma_xx'].detach().cpu().numpy()\n",
        "sigma_yy_flat = outputs['sigma_yy'].detach().cpu().numpy()\n",
        "sigma_xy_flat = outputs['sigma_xy'].detach().cpu().numpy()\n",
        "\n",
        "# Reshape the outputs back to grid shape\n",
        "u_grid = u_flat.reshape(x_grid.shape)\n",
        "v_grid = v_flat.reshape(x_grid.shape)\n",
        "sigma_xx_grid = sigma_xx.reshape(x_grid.shape)\n",
        "sigma_yy_grid = sigma_yy.reshape(x_grid.shape)\n",
        "sigma_xy_grid = sigma_xy.reshape(x_grid.shape)"
      ]
    },
    {
      "cell_type": "code",
      "execution_count": null,
      "metadata": {
        "id": "wLznWrZskEhG"
      },
      "outputs": [],
      "source": [
        "plt.figure(figsize=(15, 10))\n",
        "\n",
        "# Example of scatter plots\n",
        "plt.subplot(2, 3, 1)\n",
        "plt.scatter(x_flat, y_flat, c=u_flat, cmap='jet', s=1)\n",
        "plt.title('u')\n",
        "plt.colorbar()\n",
        "\n",
        "plt.subplot(2, 3, 2)\n",
        "plt.scatter(x_flat, y_flat, c=v_flat, cmap='jet', s=1)\n",
        "plt.title('v')\n",
        "plt.colorbar()\n",
        "\n",
        "plt.subplot(2, 3, 3)\n",
        "plt.scatter(x_flat, y_flat, c=sigma_xx_flat, cmap='jet', s=1)\n",
        "plt.title('sigma_xx')\n",
        "plt.colorbar()\n",
        "\n",
        "plt.subplot(2, 3, 4)\n",
        "plt.scatter(x_flat, y_flat, c=sigma_yy_flat, cmap='jet', s=1)\n",
        "plt.title('sigma_yy')\n",
        "plt.colorbar()\n",
        "\n",
        "plt.subplot(2, 3, 5)\n",
        "plt.scatter(x_flat, y_flat, c=sigma_xy_flat, cmap='jet', s=1)\n",
        "plt.title('sigma_xy')\n",
        "plt.colorbar()\n",
        "\n",
        "plt.tight_layout()\n",
        "plt.show()"
      ]
    },
    {
      "cell_type": "code",
      "execution_count": null,
      "metadata": {
        "id": "CO1VaVNhKJYM"
      },
      "outputs": [],
      "source": [
        "import matplotlib.pyplot as plt\n",
        "\n",
        "# Plot the color maps with 'jet' colormap\n",
        "fig, axs = plt.subplots(2, 3, figsize=(18, 12))\n",
        "\n",
        "# Plot u\n",
        "im0 = axs[0, 0].imshow(u_grid, extent=[-0.5, 0.5, -0.9, 0.9], origin='lower', aspect='auto', cmap='jet')\n",
        "axs[0, 0].set_title('u')\n",
        "axs[0, 0].set_xlabel('x')\n",
        "axs[0, 0].set_ylabel('y')\n",
        "fig.colorbar(im0, ax=axs[0, 0])\n",
        "\n",
        "# Plot v\n",
        "im1 = axs[0, 1].imshow(v_grid, extent=[-0.5, 0.5, -0.9, 0.9], origin='lower', aspect='auto', cmap='jet')\n",
        "axs[0, 1].set_title('v')\n",
        "axs[0, 1].set_xlabel('x')\n",
        "axs[0, 1].set_ylabel('y')\n",
        "fig.colorbar(im1, ax=axs[0, 1])\n",
        "\n",
        "# Plot sigma_xx\n",
        "im2 = axs[0, 2].imshow(sigma_xx_grid, extent=[-0.5, 0.5, -0.9, 0.9], origin='lower', aspect='auto', cmap='jet')\n",
        "axs[0, 2].set_title('sigma_xx')\n",
        "axs[0, 2].set_xlabel('x')\n",
        "axs[0, 2].set_ylabel('y')\n",
        "fig.colorbar(im2, ax=axs[0, 2])\n",
        "\n",
        "# Plot sigma_yy\n",
        "im3 = axs[1, 0].imshow(sigma_yy_grid, extent=[-0.5, 0.5, -0.9, 0.9], origin='lower', aspect='auto', cmap='jet')\n",
        "axs[1, 0].set_title('sigma_yy')\n",
        "axs[1, 0].set_xlabel('x')\n",
        "axs[1, 0].set_ylabel('y')\n",
        "fig.colorbar(im3, ax=axs[1, 0])\n",
        "\n",
        "# Plot sigma_xy\n",
        "im4 = axs[1, 1].imshow(sigma_xy_grid, extent=[-0.5, 0.5, -0.9, 0.9], origin='lower', aspect='auto', cmap='jet')\n",
        "axs[1, 1].set_title('sigma_xy')\n",
        "axs[1, 1].set_xlabel('x')\n",
        "axs[1, 1].set_ylabel('y')\n",
        "fig.colorbar(im4, ax=axs[1, 1])\n",
        "\n",
        "# Empty subplot for completeness\n",
        "axs[1, 2].axis('off')  # Turn off axis for the last empty subplot\n",
        "\n",
        "plt.tight_layout()\n",
        "plt.show()"
      ]
    },
    {
      "cell_type": "markdown",
      "metadata": {
        "id": "lCWNE85KkEhH"
      },
      "source": [
        "For the results, go to the inferencer folder inside ouptu and visualize .vtp file in paraview."
      ]
    },
    {
      "cell_type": "markdown",
      "metadata": {
        "id": "PSC8MpbJkEhH"
      },
      "source": []
    }
  ],
  "metadata": {
    "accelerator": "GPU",
    "colab": {
      "gpuType": "T4",
      "provenance": [],
      "include_colab_link": true
    },
    "kernelspec": {
      "display_name": "Python 3",
      "name": "python3"
    },
    "language_info": {
      "codemirror_mode": {
        "name": "ipython",
        "version": 3
      },
      "file_extension": ".py",
      "mimetype": "text/x-python",
      "name": "python",
      "nbconvert_exporter": "python",
      "pygments_lexer": "ipython3",
      "version": "3.9.19"
    }
  },
  "nbformat": 4,
  "nbformat_minor": 0
}